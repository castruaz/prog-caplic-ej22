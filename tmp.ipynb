{
 "cells": [
  {
   "cell_type": "markdown",
   "metadata": {},
   "source": []
  },
  {
   "cell_type": "code",
   "execution_count": 3,
   "metadata": {},
   "outputs": [
    {
     "name": "stdout",
     "output_type": "stream",
     "text": [
      "Introducir datos de usuario\n",
      "Bienvenido al sistema carlos ,tu edad es 20\n",
      "Bienvenido al sistema carlos,tu edad es 20\n"
     ]
    }
   ],
   "source": [
    "print('Introducir datos de usuario')\n",
    "nombre = input('Dame tu nombre : ')\n",
    "edad = int(input('Dame tu edad'))\n",
    "print('Bienvenido al sistema',nombre,', tu edad es', edad)\n",
    "print(f'Bienvenido al sistema {nombre}, tu edad es {edad}')"
   ]
  }
 ],
 "metadata": {
  "interpreter": {
   "hash": "31f2aee4e71d21fbe5cf8b01ff0e069b9275f58929596ceb00d14d90e3e16cd6"
  },
  "kernelspec": {
   "display_name": "Python 3.8.9 64-bit",
   "language": "python",
   "name": "python3"
  },
  "language_info": {
   "codemirror_mode": {
    "name": "ipython",
    "version": 3
   },
   "file_extension": ".py",
   "mimetype": "text/x-python",
   "name": "python",
   "nbconvert_exporter": "python",
   "pygments_lexer": "ipython3",
   "version": "3.8.9"
  },
  "orig_nbformat": 4
 },
 "nbformat": 4,
 "nbformat_minor": 2
}
